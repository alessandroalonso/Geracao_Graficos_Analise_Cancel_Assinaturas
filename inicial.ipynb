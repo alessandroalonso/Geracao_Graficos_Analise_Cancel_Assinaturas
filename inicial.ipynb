{
 "cells": [
  {
   "cell_type": "markdown",
   "metadata": {},
   "source": [
    "# Python Insights - Analisando Dados com Python\n",
    "\n",
    "### Case - Cancelamento de Clientes\n",
    "\n",
    "Você foi contratado por uma empresa com mais de 800 mil clientes para um projeto de Dados. Recentemente a empresa percebeu que da sua base total de clientes, a maioria são clientes inativos, ou seja, que já cancelaram o serviço.\n",
    "\n",
    "Precisando melhorar seus resultados ela quer conseguir entender os principais motivos desses cancelamentos e quais as ações mais eficientes para reduzir esse número.\n",
    "\n",
    "Base de dados e arquivos: https://drive.google.com/drive/folders/1uDesZePdkhiraJmiyeZ-w5tfc8XsNYFZ?usp=drive_link"
   ]
  },
  {
   "cell_type": "code",
   "execution_count": null,
   "metadata": {},
   "outputs": [],
   "source": [
    "#Passo 1: Importar a base de dados\n",
    "\n",
    "import pandas as pd\n",
    "\n",
    "\n",
    "tabela = pd.read_csv(\"cancelamentos.csv\")\n",
    "\n",
    "\n",
    "#Passo 2: Vizualizar a base de dados (entender as informações + encontrar problemas)\n",
    "\n",
    "tabela = tabela.drop(columns=\"CustomerID\")\n",
    "display(tabela)\n"
   ]
  },
  {
   "cell_type": "code",
   "execution_count": null,
   "metadata": {},
   "outputs": [],
   "source": [
    "#Passo 3: Resolver os problemas na base de dados\n",
    "#informações inuteis (informações que não te ajudam te atrapalham.)\n",
    "#informações no formato errado\n",
    "#informações vazias\n",
    "\n",
    "tabela = tabela.dropna()\n",
    "display(tabela.info())"
   ]
  },
  {
   "cell_type": "code",
   "execution_count": null,
   "metadata": {},
   "outputs": [],
   "source": [
    "#Passo 4: Análise inicial: (quantos clientes cancelaram, porcentagem etc.)\n",
    "#contar na coluna cancelou os valores\n",
    "display(tabela[\"cancelou\"].value_counts())\n",
    "#em percentual\n",
    "display(tabela[\"cancelou\"].value_counts(normalize=True))\n",
    "#display(tabela[\"cancelou\"].value_counts(normalize=True).map(\"{:1%}\".format))\n"
   ]
  },
  {
   "cell_type": "code",
   "execution_count": null,
   "metadata": {},
   "outputs": [],
   "source": [
    "#Passo 5: Analise a causa dos cancelamentos dos clientes.\n",
    "\n",
    "#quero entender como cada coluna na base de dados interfere no cancelamento do cliente\n",
    "#pode ser feito criando gráficos para facilitar a análise.\n",
    "#duas etapas: 1 Crie o Grafico -> 2 Exiba o gráfico\n",
    "\n",
    "import plotly.express as px\n",
    "\n",
    "for coluna in tabela.columns:\n",
    "\n",
    "\n",
    "    #crie o gráfico\n",
    "    grafico = px.histogram(tabela, x = coluna, color=\"cancelou\", text_auto=True)\n",
    "\n",
    "    #Exiba o Gráfico\n",
    "    grafico.show()\n"
   ]
  },
  {
   "cell_type": "code",
   "execution_count": null,
   "metadata": {},
   "outputs": [],
   "source": [
    "#clientes que ligaram mais de 4 vezes pro callcenter cancelam\n",
    " #solução: quando ligar pela 3 vez, alertar pra resolver urgente\n",
    "\n",
    "#todos os clientes no contrato mensal cancelaram\n",
    " #solucao: vamos dar desconto nos outros contratos.\n",
    "\n",
    "#todos os clientes que atrasaram mais de vinte dias de pagamento cancelam\n",
    " #solução: ligar um alerta para o time de cobrança quando o cliente bater 10 dias de atraso ou algo semelhante.\n",
    "\n",
    "#se esses 3 problemas forem solucionados, como ficaria a taxa de cancelamento?\n",
    "\n",
    "# callcenter -> olhar a base excluindo o problema do callcenter\n",
    "tabela = tabela[tabela[\"ligacoes_callcenter\"]<=4]\n",
    "\n",
    "#dias_atraso -> olhar a minha base excluindo o problema de dias atraso\n",
    "condicao =tabela[\"dias_atraso\"]<=20\n",
    "tabela = tabela[condicao]\n",
    "\n",
    "#duracao_contrato -> olhar a minha base excluindo os contratos mensais\n",
    " \n",
    "tabela = tabela[tabela[\"duracao_contrato\"]!=\"Monthly\"]\n",
    "\n",
    "\n",
    "\n",
    "display(tabela[\"cancelou\"].value_counts(normalize=True))\n"
   ]
  }
 ],
 "metadata": {
  "kernelspec": {
   "display_name": "Python 3",
   "language": "python",
   "name": "python3"
  },
  "language_info": {
   "codemirror_mode": {
    "name": "ipython",
    "version": 3
   },
   "file_extension": ".py",
   "mimetype": "text/x-python",
   "name": "python",
   "nbconvert_exporter": "python",
   "pygments_lexer": "ipython3",
   "version": "3.13.2"
  },
  "orig_nbformat": 4
 },
 "nbformat": 4,
 "nbformat_minor": 2
}
